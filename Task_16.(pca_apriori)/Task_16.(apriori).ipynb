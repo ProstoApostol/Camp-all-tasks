{
 "cells": [
  {
   "cell_type": "markdown",
   "metadata": {},
   "source": [
    "<font color = green >\n",
    "\n",
    "## Hometask \n",
    "\n",
    "Mine top 10 association rules worth recommending for \n",
    "[Groceries dataset](https://www.kaggle.com/heeraldedhia/groceries-dataset)"
   ]
  },
  {
   "cell_type": "code",
   "execution_count": 13,
   "metadata": {},
   "outputs": [],
   "source": [
    "import numpy as np\n",
    "import matplotlib.pyplot as plt\n",
    "import pandas as pd\n",
    "from apyori import apriori"
   ]
  },
  {
   "cell_type": "code",
   "execution_count": 14,
   "metadata": {},
   "outputs": [
    {
     "data": {
      "text/html": [
       "<div>\n",
       "<style scoped>\n",
       "    .dataframe tbody tr th:only-of-type {\n",
       "        vertical-align: middle;\n",
       "    }\n",
       "\n",
       "    .dataframe tbody tr th {\n",
       "        vertical-align: top;\n",
       "    }\n",
       "\n",
       "    .dataframe thead th {\n",
       "        text-align: right;\n",
       "    }\n",
       "</style>\n",
       "<table border=\"1\" class=\"dataframe\">\n",
       "  <thead>\n",
       "    <tr style=\"text-align: right;\">\n",
       "      <th></th>\n",
       "      <th>Member_number</th>\n",
       "      <th>Date</th>\n",
       "      <th>itemDescription</th>\n",
       "    </tr>\n",
       "  </thead>\n",
       "  <tbody>\n",
       "    <tr>\n",
       "      <th>0</th>\n",
       "      <td>1808</td>\n",
       "      <td>21-07-2015</td>\n",
       "      <td>tropical fruit</td>\n",
       "    </tr>\n",
       "    <tr>\n",
       "      <th>1</th>\n",
       "      <td>2552</td>\n",
       "      <td>05-01-2015</td>\n",
       "      <td>whole milk</td>\n",
       "    </tr>\n",
       "    <tr>\n",
       "      <th>2</th>\n",
       "      <td>2300</td>\n",
       "      <td>19-09-2015</td>\n",
       "      <td>pip fruit</td>\n",
       "    </tr>\n",
       "    <tr>\n",
       "      <th>3</th>\n",
       "      <td>1187</td>\n",
       "      <td>12-12-2015</td>\n",
       "      <td>other vegetables</td>\n",
       "    </tr>\n",
       "    <tr>\n",
       "      <th>4</th>\n",
       "      <td>3037</td>\n",
       "      <td>01-02-2015</td>\n",
       "      <td>whole milk</td>\n",
       "    </tr>\n",
       "  </tbody>\n",
       "</table>\n",
       "</div>"
      ],
      "text/plain": [
       "   Member_number        Date   itemDescription\n",
       "0           1808  21-07-2015    tropical fruit\n",
       "1           2552  05-01-2015        whole milk\n",
       "2           2300  19-09-2015         pip fruit\n",
       "3           1187  12-12-2015  other vegetables\n",
       "4           3037  01-02-2015        whole milk"
      ]
     },
     "execution_count": 14,
     "metadata": {},
     "output_type": "execute_result"
    }
   ],
   "source": [
    "data = pd.read_csv('Groceries_dataset.csv')\n",
    "data.head()"
   ]
  },
  {
   "cell_type": "code",
   "execution_count": 15,
   "metadata": {},
   "outputs": [
    {
     "data": {
      "text/plain": [
       "(38765, 3)"
      ]
     },
     "execution_count": 15,
     "metadata": {},
     "output_type": "execute_result"
    }
   ],
   "source": [
    "data.shape"
   ]
  },
  {
   "cell_type": "code",
   "execution_count": 16,
   "metadata": {},
   "outputs": [
    {
     "data": {
      "text/plain": [
       "(array([1.008e+04, 2.698e+03, 1.390e+03, 3.440e+02, 1.750e+02, 8.000e+01,\n",
       "        1.450e+02, 5.000e+01, 0.000e+00, 1.000e+00]),\n",
       " array([ 2. ,  2.9,  3.8,  4.7,  5.6,  6.5,  7.4,  8.3,  9.2, 10.1, 11. ]),\n",
       " <BarContainer object of 10 artists>)"
      ]
     },
     "execution_count": 16,
     "metadata": {},
     "output_type": "execute_result"
    },
    {
     "data": {
      "image/png": "[encoded data removed]",
      "text/plain": [
       "<Figure size 640x480 with 1 Axes>"
      ]
     },
     "metadata": {},
     "output_type": "display_data"
    }
   ],
   "source": [
    "dist = [len(g) for k, g in data.groupby(['Member_number', 'Date'])]\n",
    "plt.hist(dist)"
   ]
  },
  {
   "cell_type": "markdown",
   "metadata": {},
   "source": [
    "### Checking for NAN"
   ]
  },
  {
   "cell_type": "code",
   "execution_count": 17,
   "metadata": {},
   "outputs": [
    {
     "data": {
      "text/plain": [
       "False"
      ]
     },
     "execution_count": 17,
     "metadata": {},
     "output_type": "execute_result"
    }
   ],
   "source": [
    "data['Member_number'].isnull().any()"
   ]
  },
  {
   "cell_type": "code",
   "execution_count": 18,
   "metadata": {},
   "outputs": [
    {
     "data": {
      "text/plain": [
       "False"
      ]
     },
     "execution_count": 18,
     "metadata": {},
     "output_type": "execute_result"
    }
   ],
   "source": [
    "data['Date'].isnull().any()"
   ]
  },
  {
   "cell_type": "code",
   "execution_count": 19,
   "metadata": {},
   "outputs": [
    {
     "data": {
      "text/plain": [
       "False"
      ]
     },
     "execution_count": 19,
     "metadata": {},
     "output_type": "execute_result"
    }
   ],
   "source": [
    "data['itemDescription'].isnull().any()"
   ]
  },
  {
   "cell_type": "markdown",
   "metadata": {},
   "source": [
    "### Sorting data"
   ]
  },
  {
   "cell_type": "code",
   "execution_count": 20,
   "metadata": {},
   "outputs": [
    {
     "data": {
      "text/html": [
       "<div>\n",
       "<style scoped>\n",
       "    .dataframe tbody tr th:only-of-type {\n",
       "        vertical-align: middle;\n",
       "    }\n",
       "\n",
       "    .dataframe tbody tr th {\n",
       "        vertical-align: top;\n",
       "    }\n",
       "\n",
       "    .dataframe thead th {\n",
       "        text-align: right;\n",
       "    }\n",
       "</style>\n",
       "<table border=\"1\" class=\"dataframe\">\n",
       "  <thead>\n",
       "    <tr style=\"text-align: right;\">\n",
       "      <th></th>\n",
       "      <th>Member_number</th>\n",
       "      <th>Date</th>\n",
       "      <th>itemDescription</th>\n",
       "    </tr>\n",
       "  </thead>\n",
       "  <tbody>\n",
       "    <tr>\n",
       "      <th>1629</th>\n",
       "      <td>1000</td>\n",
       "      <td>27-05-2015</td>\n",
       "      <td>soda</td>\n",
       "    </tr>\n",
       "    <tr>\n",
       "      <th>13331</th>\n",
       "      <td>1000</td>\n",
       "      <td>24-06-2014</td>\n",
       "      <td>whole milk</td>\n",
       "    </tr>\n",
       "    <tr>\n",
       "      <th>8395</th>\n",
       "      <td>1000</td>\n",
       "      <td>15-03-2015</td>\n",
       "      <td>whole milk</td>\n",
       "    </tr>\n",
       "    <tr>\n",
       "      <th>4843</th>\n",
       "      <td>1000</td>\n",
       "      <td>15-03-2015</td>\n",
       "      <td>sausage</td>\n",
       "    </tr>\n",
       "    <tr>\n",
       "      <th>17778</th>\n",
       "      <td>1000</td>\n",
       "      <td>27-05-2015</td>\n",
       "      <td>pickled vegetables</td>\n",
       "    </tr>\n",
       "    <tr>\n",
       "      <th>2047</th>\n",
       "      <td>1000</td>\n",
       "      <td>24-07-2015</td>\n",
       "      <td>canned beer</td>\n",
       "    </tr>\n",
       "    <tr>\n",
       "      <th>24544</th>\n",
       "      <td>1000</td>\n",
       "      <td>15-03-2015</td>\n",
       "      <td>yogurt</td>\n",
       "    </tr>\n",
       "    <tr>\n",
       "      <th>18196</th>\n",
       "      <td>1000</td>\n",
       "      <td>24-07-2015</td>\n",
       "      <td>misc. beverages</td>\n",
       "    </tr>\n",
       "    <tr>\n",
       "      <th>32851</th>\n",
       "      <td>1000</td>\n",
       "      <td>24-06-2014</td>\n",
       "      <td>salty snack</td>\n",
       "    </tr>\n",
       "    <tr>\n",
       "      <th>6388</th>\n",
       "      <td>1000</td>\n",
       "      <td>25-11-2015</td>\n",
       "      <td>sausage</td>\n",
       "    </tr>\n",
       "    <tr>\n",
       "      <th>20992</th>\n",
       "      <td>1000</td>\n",
       "      <td>15-03-2015</td>\n",
       "      <td>semi-finished bread</td>\n",
       "    </tr>\n",
       "    <tr>\n",
       "      <th>22537</th>\n",
       "      <td>1000</td>\n",
       "      <td>25-11-2015</td>\n",
       "      <td>hygiene articles</td>\n",
       "    </tr>\n",
       "    <tr>\n",
       "      <th>29480</th>\n",
       "      <td>1000</td>\n",
       "      <td>24-06-2014</td>\n",
       "      <td>pastry</td>\n",
       "    </tr>\n",
       "    <tr>\n",
       "      <th>25540</th>\n",
       "      <td>1001</td>\n",
       "      <td>07-02-2014</td>\n",
       "      <td>whole milk</td>\n",
       "    </tr>\n",
       "    <tr>\n",
       "      <th>9391</th>\n",
       "      <td>1001</td>\n",
       "      <td>07-02-2014</td>\n",
       "      <td>sausage</td>\n",
       "    </tr>\n",
       "    <tr>\n",
       "      <th>21844</th>\n",
       "      <td>1001</td>\n",
       "      <td>02-05-2015</td>\n",
       "      <td>curd</td>\n",
       "    </tr>\n",
       "    <tr>\n",
       "      <th>27195</th>\n",
       "      <td>1001</td>\n",
       "      <td>12-12-2014</td>\n",
       "      <td>soda</td>\n",
       "    </tr>\n",
       "    <tr>\n",
       "      <th>6612</th>\n",
       "      <td>1001</td>\n",
       "      <td>14-04-2015</td>\n",
       "      <td>beef</td>\n",
       "    </tr>\n",
       "    <tr>\n",
       "      <th>364</th>\n",
       "      <td>1001</td>\n",
       "      <td>20-01-2015</td>\n",
       "      <td>frankfurter</td>\n",
       "    </tr>\n",
       "    <tr>\n",
       "      <th>22761</th>\n",
       "      <td>1001</td>\n",
       "      <td>14-04-2015</td>\n",
       "      <td>white bread</td>\n",
       "    </tr>\n",
       "  </tbody>\n",
       "</table>\n",
       "</div>"
      ],
      "text/plain": [
       "       Member_number        Date      itemDescription\n",
       "1629            1000  27-05-2015                 soda\n",
       "13331           1000  24-06-2014           whole milk\n",
       "8395            1000  15-03-2015           whole milk\n",
       "4843            1000  15-03-2015              sausage\n",
       "17778           1000  27-05-2015   pickled vegetables\n",
       "2047            1000  24-07-2015          canned beer\n",
       "24544           1000  15-03-2015               yogurt\n",
       "18196           1000  24-07-2015      misc. beverages\n",
       "32851           1000  24-06-2014          salty snack\n",
       "6388            1000  25-11-2015              sausage\n",
       "20992           1000  15-03-2015  semi-finished bread\n",
       "22537           1000  25-11-2015     hygiene articles\n",
       "29480           1000  24-06-2014               pastry\n",
       "25540           1001  07-02-2014           whole milk\n",
       "9391            1001  07-02-2014              sausage\n",
       "21844           1001  02-05-2015                 curd\n",
       "27195           1001  12-12-2014                 soda\n",
       "6612            1001  14-04-2015                 beef\n",
       "364             1001  20-01-2015          frankfurter\n",
       "22761           1001  14-04-2015          white bread"
      ]
     },
     "execution_count": 20,
     "metadata": {},
     "output_type": "execute_result"
    }
   ],
   "source": [
    "data.sort_values(by='Member_number', ascending=True, inplace=True)\n",
    "\n",
    "data.head(20)"
   ]
  },
  {
   "cell_type": "markdown",
   "metadata": {},
   "source": [
    "### Let's group the elements"
   ]
  },
  {
   "cell_type": "code",
   "execution_count": 21,
   "metadata": {},
   "outputs": [
    {
     "data": {
      "text/html": [
       "<div>\n",
       "<style scoped>\n",
       "    .dataframe tbody tr th:only-of-type {\n",
       "        vertical-align: middle;\n",
       "    }\n",
       "\n",
       "    .dataframe tbody tr th {\n",
       "        vertical-align: top;\n",
       "    }\n",
       "\n",
       "    .dataframe thead th {\n",
       "        text-align: right;\n",
       "    }\n",
       "</style>\n",
       "<table border=\"1\" class=\"dataframe\">\n",
       "  <thead>\n",
       "    <tr style=\"text-align: right;\">\n",
       "      <th></th>\n",
       "      <th>itemDescription</th>\n",
       "    </tr>\n",
       "  </thead>\n",
       "  <tbody>\n",
       "    <tr>\n",
       "      <th>0</th>\n",
       "      <td>[whole milk, sausage, yogurt, semi-finished br...</td>\n",
       "    </tr>\n",
       "    <tr>\n",
       "      <th>1</th>\n",
       "      <td>[whole milk, salty snack, pastry]</td>\n",
       "    </tr>\n",
       "    <tr>\n",
       "      <th>2</th>\n",
       "      <td>[canned beer, misc. beverages]</td>\n",
       "    </tr>\n",
       "    <tr>\n",
       "      <th>3</th>\n",
       "      <td>[sausage, hygiene articles]</td>\n",
       "    </tr>\n",
       "    <tr>\n",
       "      <th>4</th>\n",
       "      <td>[soda, pickled vegetables]</td>\n",
       "    </tr>\n",
       "  </tbody>\n",
       "</table>\n",
       "</div>"
      ],
      "text/plain": [
       "                                     itemDescription\n",
       "0  [whole milk, sausage, yogurt, semi-finished br...\n",
       "1                  [whole milk, salty snack, pastry]\n",
       "2                     [canned beer, misc. beverages]\n",
       "3                        [sausage, hygiene articles]\n",
       "4                         [soda, pickled vegetables]"
      ]
     },
     "execution_count": 21,
     "metadata": {},
     "output_type": "execute_result"
    }
   ],
   "source": [
    "df = data.groupby(['Member_number', 'Date']).agg(\n",
    "    lambda x: list(x)).reset_index()\n",
    "\n",
    "columns_to_drop = ['Member_number', 'Date']\n",
    "df.drop(columns=columns_to_drop, inplace=True)\n",
    "\n",
    "df.head()"
   ]
  },
  {
   "cell_type": "code",
   "execution_count": 22,
   "metadata": {},
   "outputs": [],
   "source": [
    "df = df['itemDescription']"
   ]
  },
  {
   "cell_type": "code",
   "execution_count": 23,
   "metadata": {},
   "outputs": [
    {
     "data": {
      "text/plain": [
       "[['whole milk', 'sausage', 'yogurt', 'semi-finished bread'],\n",
       " ['whole milk', 'salty snack', 'pastry'],\n",
       " ['canned beer', 'misc. beverages'],\n",
       " ['sausage', 'hygiene articles'],\n",
       " ['soda', 'pickled vegetables'],\n",
       " ['curd', 'frankfurter'],\n",
       " ['whole milk', 'sausage', 'rolls/buns'],\n",
       " ['soda', 'whole milk'],\n",
       " ['beef', 'white bread'],\n",
       " ['frankfurter', 'whipped/sour cream', 'soda'],\n",
       " ['other vegetables', 'frozen vegetables'],\n",
       " ['butter', 'whole milk'],\n",
       " ['sugar', 'tropical fruit'],\n",
       " ['specialty chocolate', 'butter milk'],\n",
       " ['sausage', 'rolls/buns'],\n",
       " ['detergent', 'root vegetables'],\n",
       " ['dental care', 'frozen meals'],\n",
       " ['rolls/buns', 'rolls/buns'],\n",
       " ['dish cleaner', 'cling film/bags'],\n",
       " ['canned beer', 'frozen fish']]"
      ]
     },
     "execution_count": 23,
     "metadata": {},
     "output_type": "execute_result"
    }
   ],
   "source": [
    "trans = df.values.tolist()\n",
    "trans[:20]"
   ]
  },
  {
   "cell_type": "markdown",
   "metadata": {},
   "source": [
    "### Learn rules "
   ]
  },
  {
   "cell_type": "code",
   "execution_count": 24,
   "metadata": {},
   "outputs": [
    {
     "data": {
      "text/plain": [
       "[RelationRecord(items=frozenset({'cake bar', 'Instant food products'}), support=0.00013366303548753594, ordered_statistics=[OrderedStatistic(items_base=frozenset({'Instant food products'}), items_add=frozenset({'cake bar'}), confidence=0.03333333333333333, lift=5.421376811594203), OrderedStatistic(items_base=frozenset({'cake bar'}), items_add=frozenset({'Instant food products'}), confidence=0.02173913043478261, lift=5.421376811594204)]),\n",
       " RelationRecord(items=frozenset({'abrasive cleaner', 'frozen meals'}), support=0.00013366303548753594, ordered_statistics=[OrderedStatistic(items_base=frozenset({'abrasive cleaner'}), items_add=frozenset({'frozen meals'}), confidence=0.09090909090909093, lift=5.419413256066644), OrderedStatistic(items_base=frozenset({'frozen meals'}), items_add=frozenset({'abrasive cleaner'}), confidence=0.007968127490039842, lift=5.419413256066644)]),\n",
       " RelationRecord(items=frozenset({'abrasive cleaner', 'meat'}), support=0.00013366303548753594, ordered_statistics=[OrderedStatistic(items_base=frozenset({'abrasive cleaner'}), items_add=frozenset({'meat'}), confidence=0.09090909090909093, lift=5.397907647907649), OrderedStatistic(items_base=frozenset({'meat'}), items_add=frozenset({'abrasive cleaner'}), confidence=0.007936507936507938, lift=5.397907647907648)]),\n",
       " RelationRecord(items=frozenset({'artif. sweetener', 'grapes'}), support=0.00013366303548753594, ordered_statistics=[OrderedStatistic(items_base=frozenset({'artif. sweetener'}), items_add=frozenset({'grapes'}), confidence=0.06896551724137932, lift=4.777458492975735), OrderedStatistic(items_base=frozenset({'grapes'}), items_add=frozenset({'artif. sweetener'}), confidence=0.00925925925925926, lift=4.777458492975735)]),\n",
       " RelationRecord(items=frozenset({'artif. sweetener', 'ham'}), support=0.00013366303548753594, ordered_statistics=[OrderedStatistic(items_base=frozenset({'artif. sweetener'}), items_add=frozenset({'ham'}), confidence=0.06896551724137932, lift=4.030980603448276), OrderedStatistic(items_base=frozenset({'ham'}), items_add=frozenset({'artif. sweetener'}), confidence=0.0078125, lift=4.030980603448276)]),\n",
       " RelationRecord(items=frozenset({'herbs', 'artif. sweetener'}), support=0.00013366303548753594, ordered_statistics=[OrderedStatistic(items_base=frozenset({'artif. sweetener'}), items_add=frozenset({'herbs'}), confidence=0.06896551724137932, lift=6.531209079004802), OrderedStatistic(items_base=frozenset({'herbs'}), items_add=frozenset({'artif. sweetener'}), confidence=0.012658227848101267, lift=6.531209079004802)]),\n",
       " RelationRecord(items=frozenset({'misc. beverages', 'artif. sweetener'}), support=0.00013366303548753594, ordered_statistics=[OrderedStatistic(items_base=frozenset({'artif. sweetener'}), items_add=frozenset({'misc. beverages'}), confidence=0.06896551724137932, lift=4.372589129164232), OrderedStatistic(items_base=frozenset({'misc. beverages'}), items_add=frozenset({'artif. sweetener'}), confidence=0.00847457627118644, lift=4.372589129164232)]),\n",
       " RelationRecord(items=frozenset({'yogurt', 'bags'}), support=0.00013366303548753594, ordered_statistics=[OrderedStatistic(items_base=frozenset({'bags'}), items_add=frozenset({'yogurt'}), confidence=0.5, lift=5.822178988326848), OrderedStatistic(items_base=frozenset({'yogurt'}), items_add=frozenset({'bags'}), confidence=0.0015564202334630351, lift=5.822178988326848)]),\n",
       " RelationRecord(items=frozenset({'mustard', 'baking powder'}), support=0.00020049455323130388, ordered_statistics=[OrderedStatistic(items_base=frozenset({'baking powder'}), items_add=frozenset({'mustard'}), confidence=0.024793388429752067, lift=4.032429033417175), OrderedStatistic(items_base=frozenset({'mustard'}), items_add=frozenset({'baking powder'}), confidence=0.03260869565217391, lift=4.032429033417175)]),\n",
       " RelationRecord(items=frozenset({'baking powder', 'ready soups'}), support=0.00013366303548753594, ordered_statistics=[OrderedStatistic(items_base=frozenset({'baking powder'}), items_add=frozenset({'ready soups'}), confidence=0.01652892561983471, lift=16.48815426997245), OrderedStatistic(items_base=frozenset({'ready soups'}), items_add=frozenset({'baking powder'}), confidence=0.13333333333333333, lift=16.48815426997245)]),\n",
       " RelationRecord(items=frozenset({'waffles', 'bathroom cleaner'}), support=0.00013366303548753594, ordered_statistics=[OrderedStatistic(items_base=frozenset({'bathroom cleaner'}), items_add=frozenset({'waffles'}), confidence=0.11764705882352942, lift=6.355064769590148), OrderedStatistic(items_base=frozenset({'waffles'}), items_add=frozenset({'bathroom cleaner'}), confidence=0.007220216606498196, lift=6.355064769590148)]),\n",
       " RelationRecord(items=frozenset({'berries', 'nut snack'}), support=0.00013366303548753594, ordered_statistics=[OrderedStatistic(items_base=frozenset({'berries'}), items_add=frozenset({'nut snack'}), confidence=0.006134969325153375, lift=4.172615727830452), OrderedStatistic(items_base=frozenset({'nut snack'}), items_add=frozenset({'berries'}), confidence=0.09090909090909093, lift=4.172615727830452)]),\n",
       " RelationRecord(items=frozenset({'berries', 'soap'}), support=0.00020049455323130388, ordered_statistics=[OrderedStatistic(items_base=frozenset({'berries'}), items_add=frozenset({'soap'}), confidence=0.009202453987730062, lift=6.884815950920245), OrderedStatistic(items_base=frozenset({'soap'}), items_add=frozenset({'berries'}), confidence=0.15, lift=6.884815950920245)]),\n",
       " RelationRecord(items=frozenset({'tidbits', 'berries'}), support=0.00013366303548753594, ordered_statistics=[OrderedStatistic(items_base=frozenset({'berries'}), items_add=frozenset({'tidbits'}), confidence=0.006134969325153375, lift=4.172615727830452), OrderedStatistic(items_base=frozenset({'tidbits'}), items_add=frozenset({'berries'}), confidence=0.09090909090909093, lift=4.172615727830452)]),\n",
       " RelationRecord(items=frozenset({'prosecco', 'beverages'}), support=0.00013366303548753594, ordered_statistics=[OrderedStatistic(items_base=frozenset({'beverages'}), items_add=frozenset({'prosecco'}), confidence=0.00806451612903226, lift=6.351018675721564), OrderedStatistic(items_base=frozenset({'prosecco'}), items_add=frozenset({'beverages'}), confidence=0.10526315789473686, lift=6.351018675721564)]),\n",
       " RelationRecord(items=frozenset({'brandy', 'chewing gum'}), support=0.00013366303548753594, ordered_statistics=[OrderedStatistic(items_base=frozenset({'brandy'}), items_add=frozenset({'chewing gum'}), confidence=0.05263157894736843, lift=4.375146198830411), OrderedStatistic(items_base=frozenset({'chewing gum'}), items_add=frozenset({'brandy'}), confidence=0.011111111111111113, lift=4.375146198830411)]),\n",
       " RelationRecord(items=frozenset({'cake bar', 'jam'}), support=0.00013366303548753594, ordered_statistics=[OrderedStatistic(items_base=frozenset({'cake bar'}), items_add=frozenset({'jam'}), confidence=0.02173913043478261, lift=9.567135549872123), OrderedStatistic(items_base=frozenset({'jam'}), items_add=frozenset({'cake bar'}), confidence=0.05882352941176471, lift=9.567135549872123)]),\n",
       " RelationRecord(items=frozenset({'cocoa drinks', 'canned fish'}), support=0.00013366303548753594, ordered_statistics=[OrderedStatistic(items_base=frozenset({'canned fish'}), items_add=frozenset({'cocoa drinks'}), confidence=0.017391304347826087, lift=16.264130434782608), OrderedStatistic(items_base=frozenset({'cocoa drinks'}), items_add=frozenset({'canned fish'}), confidence=0.125, lift=16.264130434782608)]),\n",
       " RelationRecord(items=frozenset({'onions', 'canned fruit'}), support=0.00020049455323130388, ordered_statistics=[OrderedStatistic(items_base=frozenset({'canned fruit'}), items_add=frozenset({'onions'}), confidence=0.14285714285714285, lift=7.054691183404055), OrderedStatistic(items_base=frozenset({'onions'}), items_add=frozenset({'canned fruit'}), confidence=0.009900990099009901, lift=7.0546911834040555)]),\n",
       " RelationRecord(items=frozenset({'specialty chocolate', 'canned fruit'}), support=0.00013366303548753594, ordered_statistics=[OrderedStatistic(items_base=frozenset({'canned fruit'}), items_add=frozenset({'specialty chocolate'}), confidence=0.09523809523809526, lift=5.962542339111378), OrderedStatistic(items_base=frozenset({'specialty chocolate'}), items_add=frozenset({'canned fruit'}), confidence=0.008368200836820085, lift=5.962542339111378)])]"
      ]
     },
     "execution_count": 24,
     "metadata": {},
     "output_type": "execute_result"
    }
   ],
   "source": [
    "rules = list(apriori(trans, min_support=0.0001,\n",
    "             min_confidence=0.0002, min_lift=4, min_length=2))\n",
    "\n",
    "rules[:20]"
   ]
  },
  {
   "cell_type": "code",
   "execution_count": 25,
   "metadata": {},
   "outputs": [
    {
     "data": {
      "text/plain": [
       "1611"
      ]
     },
     "execution_count": 25,
     "metadata": {},
     "output_type": "execute_result"
    }
   ],
   "source": [
    "len(rules)"
   ]
  },
  {
   "cell_type": "code",
   "execution_count": 26,
   "metadata": {},
   "outputs": [
    {
     "data": {
      "text/plain": [
       "[RelationRecord(items=frozenset({'cake bar', 'Instant food products'}), support=0.00013366303548753594, ordered_statistics=[OrderedStatistic(items_base=frozenset({'Instant food products'}), items_add=frozenset({'cake bar'}), confidence=0.03333333333333333, lift=5.421376811594203), OrderedStatistic(items_base=frozenset({'cake bar'}), items_add=frozenset({'Instant food products'}), confidence=0.02173913043478261, lift=5.421376811594204)]),\n",
       " RelationRecord(items=frozenset({'specialty bar', 'Instant food products'}), support=0.00013366303548753594, ordered_statistics=[OrderedStatistic(items_base=frozenset({'Instant food products'}), items_add=frozenset({'specialty bar'}), confidence=0.03333333333333333, lift=2.3864433811802233), OrderedStatistic(items_base=frozenset({'specialty bar'}), items_add=frozenset({'Instant food products'}), confidence=0.009569377990430622, lift=2.3864433811802233)]),\n",
       " RelationRecord(items=frozenset({'specialty chocolate', 'Instant food products'}), support=0.00013366303548753594, ordered_statistics=[OrderedStatistic(items_base=frozenset({'Instant food products'}), items_add=frozenset({'specialty chocolate'}), confidence=0.03333333333333333, lift=2.0868898186889817), OrderedStatistic(items_base=frozenset({'specialty chocolate'}), items_add=frozenset({'Instant food products'}), confidence=0.008368200836820085, lift=2.086889818688982)]),\n",
       " RelationRecord(items=frozenset({'candles', 'UHT-milk'}), support=0.00020049455323130388, ordered_statistics=[OrderedStatistic(items_base=frozenset({'UHT-milk'}), items_add=frozenset({'candles'}), confidence=0.009375, lift=2.1254261363636364), OrderedStatistic(items_base=frozenset({'candles'}), items_add=frozenset({'UHT-milk'}), confidence=0.04545454545454545, lift=2.125426136363636)]),\n",
       " RelationRecord(items=frozenset({'UHT-milk', 'curd cheese'}), support=0.00013366303548753594, ordered_statistics=[OrderedStatistic(items_base=frozenset({'UHT-milk'}), items_add=frozenset({'curd cheese'}), confidence=0.00625, lift=2.033016304347826), OrderedStatistic(items_base=frozenset({'curd cheese'}), items_add=frozenset({'UHT-milk'}), confidence=0.04347826086956522, lift=2.0330163043478264)]),\n",
       " RelationRecord(items=frozenset({'UHT-milk', 'fish'}), support=0.00013366303548753594, ordered_statistics=[OrderedStatistic(items_base=frozenset({'UHT-milk'}), items_add=frozenset({'fish'}), confidence=0.00625, lift=3.224784482758621), OrderedStatistic(items_base=frozenset({'fish'}), items_add=frozenset({'UHT-milk'}), confidence=0.06896551724137932, lift=3.224784482758621)]),\n",
       " RelationRecord(items=frozenset({'abrasive cleaner', 'beef'}), support=0.00013366303548753594, ordered_statistics=[OrderedStatistic(items_base=frozenset({'abrasive cleaner'}), items_add=frozenset({'beef'}), confidence=0.09090909090909093, lift=2.6777022190408024), OrderedStatistic(items_base=frozenset({'beef'}), items_add=frozenset({'abrasive cleaner'}), confidence=0.003937007874015749, lift=2.6777022190408024)]),\n",
       " RelationRecord(items=frozenset({'abrasive cleaner', 'frozen meals'}), support=0.00013366303548753594, ordered_statistics=[OrderedStatistic(items_base=frozenset({'abrasive cleaner'}), items_add=frozenset({'frozen meals'}), confidence=0.09090909090909093, lift=5.419413256066644), OrderedStatistic(items_base=frozenset({'frozen meals'}), items_add=frozenset({'abrasive cleaner'}), confidence=0.007968127490039842, lift=5.419413256066644)]),\n",
       " RelationRecord(items=frozenset({'abrasive cleaner', 'frozen vegetables'}), support=0.00013366303548753594, ordered_statistics=[OrderedStatistic(items_base=frozenset({'abrasive cleaner'}), items_add=frozenset({'frozen vegetables'}), confidence=0.09090909090909093, lift=3.246474289433717), OrderedStatistic(items_base=frozenset({'frozen vegetables'}), items_add=frozenset({'abrasive cleaner'}), confidence=0.00477326968973747, lift=3.2464742894337166)]),\n",
       " RelationRecord(items=frozenset({'abrasive cleaner', 'meat'}), support=0.00013366303548753594, ordered_statistics=[OrderedStatistic(items_base=frozenset({'abrasive cleaner'}), items_add=frozenset({'meat'}), confidence=0.09090909090909093, lift=5.397907647907649), OrderedStatistic(items_base=frozenset({'meat'}), items_add=frozenset({'abrasive cleaner'}), confidence=0.007936507936507938, lift=5.397907647907648)]),\n",
       " RelationRecord(items=frozenset({'abrasive cleaner', 'whipped/sour cream'}), support=0.00013366303548753594, ordered_statistics=[OrderedStatistic(items_base=frozenset({'abrasive cleaner'}), items_add=frozenset({'whipped/sour cream'}), confidence=0.09090909090909093, lift=2.0799277175423967), OrderedStatistic(items_base=frozenset({'whipped/sour cream'}), items_add=frozenset({'abrasive cleaner'}), confidence=0.0030581039755351687, lift=2.0799277175423967)]),\n",
       " RelationRecord(items=frozenset({'artif. sweetener', 'curd'}), support=0.00013366303548753594, ordered_statistics=[OrderedStatistic(items_base=frozenset({'artif. sweetener'}), items_add=frozenset({'curd'}), confidence=0.06896551724137932, lift=2.047482211275315), OrderedStatistic(items_base=frozenset({'curd'}), items_add=frozenset({'artif. sweetener'}), confidence=0.003968253968253969, lift=2.047482211275315)]),\n",
       " RelationRecord(items=frozenset({'domestic eggs', 'artif. sweetener'}), support=0.00020049455323130388, ordered_statistics=[OrderedStatistic(items_base=frozenset({'artif. sweetener'}), items_add=frozenset({'domestic eggs'}), confidence=0.10344827586206896, lift=2.7890027958993477), OrderedStatistic(items_base=frozenset({'domestic eggs'}), items_add=frozenset({'artif. sweetener'}), confidence=0.005405405405405406, lift=2.7890027958993477)]),\n",
       " RelationRecord(items=frozenset({'artif. sweetener', 'grapes'}), support=0.00013366303548753594, ordered_statistics=[OrderedStatistic(items_base=frozenset({'artif. sweetener'}), items_add=frozenset({'grapes'}), confidence=0.06896551724137932, lift=4.777458492975735), OrderedStatistic(items_base=frozenset({'grapes'}), items_add=frozenset({'artif. sweetener'}), confidence=0.00925925925925926, lift=4.777458492975735)]),\n",
       " RelationRecord(items=frozenset({'artif. sweetener', 'ham'}), support=0.00013366303548753594, ordered_statistics=[OrderedStatistic(items_base=frozenset({'artif. sweetener'}), items_add=frozenset({'ham'}), confidence=0.06896551724137932, lift=4.030980603448276), OrderedStatistic(items_base=frozenset({'ham'}), items_add=frozenset({'artif. sweetener'}), confidence=0.0078125, lift=4.030980603448276)]),\n",
       " RelationRecord(items=frozenset({'herbs', 'artif. sweetener'}), support=0.00013366303548753594, ordered_statistics=[OrderedStatistic(items_base=frozenset({'artif. sweetener'}), items_add=frozenset({'herbs'}), confidence=0.06896551724137932, lift=6.531209079004802), OrderedStatistic(items_base=frozenset({'herbs'}), items_add=frozenset({'artif. sweetener'}), confidence=0.012658227848101267, lift=6.531209079004802)]),\n",
       " RelationRecord(items=frozenset({'misc. beverages', 'artif. sweetener'}), support=0.00013366303548753594, ordered_statistics=[OrderedStatistic(items_base=frozenset({'artif. sweetener'}), items_add=frozenset({'misc. beverages'}), confidence=0.06896551724137932, lift=4.372589129164232), OrderedStatistic(items_base=frozenset({'misc. beverages'}), items_add=frozenset({'artif. sweetener'}), confidence=0.00847457627118644, lift=4.372589129164232)]),\n",
       " RelationRecord(items=frozenset({'artif. sweetener', 'napkins'}), support=0.00013366303548753594, ordered_statistics=[OrderedStatistic(items_base=frozenset({'artif. sweetener'}), items_add=frozenset({'napkins'}), confidence=0.06896551724137932, lift=3.117616418376915), OrderedStatistic(items_base=frozenset({'napkins'}), items_add=frozenset({'artif. sweetener'}), confidence=0.006042296072507554, lift=3.117616418376915)]),\n",
       " RelationRecord(items=frozenset({'salty snack', 'artif. sweetener'}), support=0.00013366303548753594, ordered_statistics=[OrderedStatistic(items_base=frozenset({'artif. sweetener'}), items_add=frozenset({'salty snack'}), confidence=0.06896551724137932, lift=3.672352435881704), OrderedStatistic(items_base=frozenset({'salty snack'}), items_add=frozenset({'artif. sweetener'}), confidence=0.00711743772241993, lift=3.672352435881704)]),\n",
       " RelationRecord(items=frozenset({'soda', 'artif. sweetener'}), support=0.00046782062420637575, ordered_statistics=[OrderedStatistic(items_base=frozenset({'artif. sweetener'}), items_add=frozenset({'soda'}), confidence=0.2413793103448276, lift=2.4857251346797353), OrderedStatistic(items_base=frozenset({'soda'}), items_add=frozenset({'artif. sweetener'}), confidence=0.004817618719889884, lift=2.4857251346797358)])]"
      ]
     },
     "execution_count": 26,
     "metadata": {},
     "output_type": "execute_result"
    }
   ],
   "source": [
    "rules = list(apriori(trans, min_support=0.0001,\n",
    "             min_confidence=0.0002, min_lift=2, min_length=2))\n",
    "rules[:20]"
   ]
  },
  {
   "cell_type": "code",
   "execution_count": 27,
   "metadata": {},
   "outputs": [
    {
     "data": {
      "text/plain": [
       "2958"
      ]
     },
     "execution_count": 27,
     "metadata": {},
     "output_type": "execute_result"
    }
   ],
   "source": [
    "len(rules)"
   ]
  },
  {
   "cell_type": "markdown",
   "metadata": {},
   "source": [
    "### Print rules with more details "
   ]
  },
  {
   "cell_type": "code",
   "execution_count": 28,
   "metadata": {},
   "outputs": [
    {
     "name": "stdout",
     "output_type": "stream",
     "text": [
      "rule.items= ['cake bar', 'Instant food products']\n",
      "rule.support= 0.00013366303548753594\n",
      "\titems_base= ['Instant food products']\n",
      "\tlifted_item = ['cake bar']\n",
      "\tlift= 5.421376811594203\n",
      "\tconfidence (i.e. cond prob ['cake bar'] if ['Instant food products'])= 0.03333333333333333\n",
      "\n",
      "\n",
      "\titems_base= ['cake bar']\n",
      "\tlifted_item = ['Instant food products']\n",
      "\tlift= 5.421376811594204\n",
      "\tconfidence (i.e. cond prob ['Instant food products'] if ['cake bar'])= 0.02173913043478261\n",
      "\n",
      "\n",
      "rule.items= ['specialty bar', 'Instant food products']\n",
      "rule.support= 0.00013366303548753594\n",
      "\titems_base= ['Instant food products']\n",
      "\tlifted_item = ['specialty bar']\n",
      "\tlift= 2.3864433811802233\n",
      "\tconfidence (i.e. cond prob ['specialty bar'] if ['Instant food products'])= 0.03333333333333333\n",
      "\n",
      "\n",
      "\titems_base= ['specialty bar']\n",
      "\tlifted_item = ['Instant food products']\n",
      "\tlift= 2.3864433811802233\n",
      "\tconfidence (i.e. cond prob ['Instant food products'] if ['specialty bar'])= 0.009569377990430622\n",
      "\n",
      "\n",
      "rule.items= ['specialty chocolate', 'Instant food products']\n",
      "rule.support= 0.00013366303548753594\n",
      "\titems_base= ['Instant food products']\n",
      "\tlifted_item = ['specialty chocolate']\n",
      "\tlift= 2.0868898186889817\n",
      "\tconfidence (i.e. cond prob ['specialty chocolate'] if ['Instant food products'])= 0.03333333333333333\n",
      "\n",
      "\n",
      "\titems_base= ['specialty chocolate']\n",
      "\tlifted_item = ['Instant food products']\n",
      "\tlift= 2.086889818688982\n",
      "\tconfidence (i.e. cond prob ['Instant food products'] if ['specialty chocolate'])= 0.008368200836820085\n",
      "\n",
      "\n",
      "rule.items= ['candles', 'UHT-milk']\n",
      "rule.support= 0.00020049455323130388\n",
      "\titems_base= ['UHT-milk']\n",
      "\tlifted_item = ['candles']\n",
      "\tlift= 2.1254261363636364\n",
      "\tconfidence (i.e. cond prob ['candles'] if ['UHT-milk'])= 0.009375\n",
      "\n",
      "\n",
      "\titems_base= ['candles']\n",
      "\tlifted_item = ['UHT-milk']\n",
      "\tlift= 2.125426136363636\n",
      "\tconfidence (i.e. cond prob ['UHT-milk'] if ['candles'])= 0.04545454545454545\n",
      "\n",
      "\n",
      "rule.items= ['UHT-milk', 'curd cheese']\n",
      "rule.support= 0.00013366303548753594\n",
      "\titems_base= ['UHT-milk']\n",
      "\tlifted_item = ['curd cheese']\n",
      "\tlift= 2.033016304347826\n",
      "\tconfidence (i.e. cond prob ['curd cheese'] if ['UHT-milk'])= 0.00625\n",
      "\n",
      "\n",
      "\titems_base= ['curd cheese']\n",
      "\tlifted_item = ['UHT-milk']\n",
      "\tlift= 2.0330163043478264\n",
      "\tconfidence (i.e. cond prob ['UHT-milk'] if ['curd cheese'])= 0.04347826086956522\n",
      "\n",
      "\n",
      "rule.items= ['UHT-milk', 'fish']\n",
      "rule.support= 0.00013366303548753594\n",
      "\titems_base= ['UHT-milk']\n",
      "\tlifted_item = ['fish']\n",
      "\tlift= 3.224784482758621\n",
      "\tconfidence (i.e. cond prob ['fish'] if ['UHT-milk'])= 0.00625\n",
      "\n",
      "\n",
      "\titems_base= ['fish']\n",
      "\tlifted_item = ['UHT-milk']\n",
      "\tlift= 3.224784482758621\n",
      "\tconfidence (i.e. cond prob ['UHT-milk'] if ['fish'])= 0.06896551724137932\n",
      "\n",
      "\n",
      "rule.items= ['abrasive cleaner', 'beef']\n",
      "rule.support= 0.00013366303548753594\n",
      "\titems_base= ['abrasive cleaner']\n",
      "\tlifted_item = ['beef']\n",
      "\tlift= 2.6777022190408024\n",
      "\tconfidence (i.e. cond prob ['beef'] if ['abrasive cleaner'])= 0.09090909090909093\n",
      "\n",
      "\n",
      "\titems_base= ['beef']\n",
      "\tlifted_item = ['abrasive cleaner']\n",
      "\tlift= 2.6777022190408024\n",
      "\tconfidence (i.e. cond prob ['abrasive cleaner'] if ['beef'])= 0.003937007874015749\n",
      "\n",
      "\n",
      "rule.items= ['abrasive cleaner', 'frozen meals']\n",
      "rule.support= 0.00013366303548753594\n",
      "\titems_base= ['abrasive cleaner']\n",
      "\tlifted_item = ['frozen meals']\n",
      "\tlift= 5.419413256066644\n",
      "\tconfidence (i.e. cond prob ['frozen meals'] if ['abrasive cleaner'])= 0.09090909090909093\n",
      "\n",
      "\n",
      "\titems_base= ['frozen meals']\n",
      "\tlifted_item = ['abrasive cleaner']\n",
      "\tlift= 5.419413256066644\n",
      "\tconfidence (i.e. cond prob ['abrasive cleaner'] if ['frozen meals'])= 0.007968127490039842\n",
      "\n",
      "\n",
      "rule.items= ['abrasive cleaner', 'frozen vegetables']\n",
      "rule.support= 0.00013366303548753594\n",
      "\titems_base= ['abrasive cleaner']\n",
      "\tlifted_item = ['frozen vegetables']\n",
      "\tlift= 3.246474289433717\n",
      "\tconfidence (i.e. cond prob ['frozen vegetables'] if ['abrasive cleaner'])= 0.09090909090909093\n",
      "\n",
      "\n",
      "\titems_base= ['frozen vegetables']\n",
      "\tlifted_item = ['abrasive cleaner']\n",
      "\tlift= 3.2464742894337166\n",
      "\tconfidence (i.e. cond prob ['abrasive cleaner'] if ['frozen vegetables'])= 0.00477326968973747\n",
      "\n",
      "\n",
      "rule.items= ['abrasive cleaner', 'meat']\n",
      "rule.support= 0.00013366303548753594\n",
      "\titems_base= ['abrasive cleaner']\n",
      "\tlifted_item = ['meat']\n",
      "\tlift= 5.397907647907649\n",
      "\tconfidence (i.e. cond prob ['meat'] if ['abrasive cleaner'])= 0.09090909090909093\n",
      "\n",
      "\n",
      "\titems_base= ['meat']\n",
      "\tlifted_item = ['abrasive cleaner']\n",
      "\tlift= 5.397907647907648\n",
      "\tconfidence (i.e. cond prob ['abrasive cleaner'] if ['meat'])= 0.007936507936507938\n",
      "\n",
      "\n",
      "rule.items= ['abrasive cleaner', 'whipped/sour cream']\n",
      "rule.support= 0.00013366303548753594\n",
      "\titems_base= ['abrasive cleaner']\n",
      "\tlifted_item = ['whipped/sour cream']\n",
      "\tlift= 2.0799277175423967\n",
      "\tconfidence (i.e. cond prob ['whipped/sour cream'] if ['abrasive cleaner'])= 0.09090909090909093\n",
      "\n",
      "\n",
      "\titems_base= ['whipped/sour cream']\n",
      "\tlifted_item = ['abrasive cleaner']\n",
      "\tlift= 2.0799277175423967\n",
      "\tconfidence (i.e. cond prob ['abrasive cleaner'] if ['whipped/sour cream'])= 0.0030581039755351687\n",
      "\n",
      "\n",
      "rule.items= ['artif. sweetener', 'curd']\n",
      "rule.support= 0.00013366303548753594\n",
      "\titems_base= ['artif. sweetener']\n",
      "\tlifted_item = ['curd']\n",
      "\tlift= 2.047482211275315\n",
      "\tconfidence (i.e. cond prob ['curd'] if ['artif. sweetener'])= 0.06896551724137932\n",
      "\n",
      "\n",
      "\titems_base= ['curd']\n",
      "\tlifted_item = ['artif. sweetener']\n",
      "\tlift= 2.047482211275315\n",
      "\tconfidence (i.e. cond prob ['artif. sweetener'] if ['curd'])= 0.003968253968253969\n",
      "\n",
      "\n",
      "rule.items= ['domestic eggs', 'artif. sweetener']\n",
      "rule.support= 0.00020049455323130388\n",
      "\titems_base= ['artif. sweetener']\n",
      "\tlifted_item = ['domestic eggs']\n",
      "\tlift= 2.7890027958993477\n",
      "\tconfidence (i.e. cond prob ['domestic eggs'] if ['artif. sweetener'])= 0.10344827586206896\n",
      "\n",
      "\n",
      "\titems_base= ['domestic eggs']\n",
      "\tlifted_item = ['artif. sweetener']\n",
      "\tlift= 2.7890027958993477\n",
      "\tconfidence (i.e. cond prob ['artif. sweetener'] if ['domestic eggs'])= 0.005405405405405406\n",
      "\n",
      "\n",
      "rule.items= ['artif. sweetener', 'grapes']\n",
      "rule.support= 0.00013366303548753594\n",
      "\titems_base= ['artif. sweetener']\n",
      "\tlifted_item = ['grapes']\n",
      "\tlift= 4.777458492975735\n",
      "\tconfidence (i.e. cond prob ['grapes'] if ['artif. sweetener'])= 0.06896551724137932\n",
      "\n",
      "\n",
      "\titems_base= ['grapes']\n",
      "\tlifted_item = ['artif. sweetener']\n",
      "\tlift= 4.777458492975735\n",
      "\tconfidence (i.e. cond prob ['artif. sweetener'] if ['grapes'])= 0.00925925925925926\n",
      "\n",
      "\n",
      "rule.items= ['artif. sweetener', 'ham']\n",
      "rule.support= 0.00013366303548753594\n",
      "\titems_base= ['artif. sweetener']\n",
      "\tlifted_item = ['ham']\n",
      "\tlift= 4.030980603448276\n",
      "\tconfidence (i.e. cond prob ['ham'] if ['artif. sweetener'])= 0.06896551724137932\n",
      "\n",
      "\n",
      "\titems_base= ['ham']\n",
      "\tlifted_item = ['artif. sweetener']\n",
      "\tlift= 4.030980603448276\n",
      "\tconfidence (i.e. cond prob ['artif. sweetener'] if ['ham'])= 0.0078125\n",
      "\n",
      "\n",
      "rule.items= ['herbs', 'artif. sweetener']\n",
      "rule.support= 0.00013366303548753594\n",
      "\titems_base= ['artif. sweetener']\n",
      "\tlifted_item = ['herbs']\n",
      "\tlift= 6.531209079004802\n",
      "\tconfidence (i.e. cond prob ['herbs'] if ['artif. sweetener'])= 0.06896551724137932\n",
      "\n",
      "\n",
      "\titems_base= ['herbs']\n",
      "\tlifted_item = ['artif. sweetener']\n",
      "\tlift= 6.531209079004802\n",
      "\tconfidence (i.e. cond prob ['artif. sweetener'] if ['herbs'])= 0.012658227848101267\n",
      "\n",
      "\n",
      "rule.items= ['misc. beverages', 'artif. sweetener']\n",
      "rule.support= 0.00013366303548753594\n",
      "\titems_base= ['artif. sweetener']\n",
      "\tlifted_item = ['misc. beverages']\n",
      "\tlift= 4.372589129164232\n",
      "\tconfidence (i.e. cond prob ['misc. beverages'] if ['artif. sweetener'])= 0.06896551724137932\n",
      "\n",
      "\n",
      "\titems_base= ['misc. beverages']\n",
      "\tlifted_item = ['artif. sweetener']\n",
      "\tlift= 4.372589129164232\n",
      "\tconfidence (i.e. cond prob ['artif. sweetener'] if ['misc. beverages'])= 0.00847457627118644\n",
      "\n",
      "\n",
      "rule.items= ['artif. sweetener', 'napkins']\n",
      "rule.support= 0.00013366303548753594\n",
      "\titems_base= ['artif. sweetener']\n",
      "\tlifted_item = ['napkins']\n",
      "\tlift= 3.117616418376915\n",
      "\tconfidence (i.e. cond prob ['napkins'] if ['artif. sweetener'])= 0.06896551724137932\n",
      "\n",
      "\n",
      "\titems_base= ['napkins']\n",
      "\tlifted_item = ['artif. sweetener']\n",
      "\tlift= 3.117616418376915\n",
      "\tconfidence (i.e. cond prob ['artif. sweetener'] if ['napkins'])= 0.006042296072507554\n",
      "\n",
      "\n",
      "rule.items= ['salty snack', 'artif. sweetener']\n",
      "rule.support= 0.00013366303548753594\n",
      "\titems_base= ['artif. sweetener']\n",
      "\tlifted_item = ['salty snack']\n",
      "\tlift= 3.672352435881704\n",
      "\tconfidence (i.e. cond prob ['salty snack'] if ['artif. sweetener'])= 0.06896551724137932\n",
      "\n",
      "\n",
      "\titems_base= ['salty snack']\n",
      "\tlifted_item = ['artif. sweetener']\n",
      "\tlift= 3.672352435881704\n",
      "\tconfidence (i.e. cond prob ['artif. sweetener'] if ['salty snack'])= 0.00711743772241993\n",
      "\n",
      "\n",
      "rule.items= ['soda', 'artif. sweetener']\n",
      "rule.support= 0.00046782062420637575\n",
      "\titems_base= ['artif. sweetener']\n",
      "\tlifted_item = ['soda']\n",
      "\tlift= 2.4857251346797353\n",
      "\tconfidence (i.e. cond prob ['soda'] if ['artif. sweetener'])= 0.2413793103448276\n",
      "\n",
      "\n",
      "\titems_base= ['soda']\n",
      "\tlifted_item = ['artif. sweetener']\n",
      "\tlift= 2.4857251346797358\n",
      "\tconfidence (i.e. cond prob ['artif. sweetener'] if ['soda'])= 0.004817618719889884\n",
      "\n",
      "\n"
     ]
    }
   ],
   "source": [
    "def print_rules(rules):\n",
    "    for rule in rules:\n",
    "        print('rule.items=', list(rule.items))\n",
    "        print('rule.support=', rule.support)\n",
    "\n",
    "        for os in rule.ordered_statistics:\n",
    "            print('\\titems_base=', list(os.items_base))\n",
    "            print('\\tlifted_item =', list(os.items_add))\n",
    "            print('\\tlift=', os.lift)\n",
    "            print('\\tconfidence (i.e. cond prob {} if {})='.format(\n",
    "                list(os.items_add), list(os.items_base)), os.confidence)\n",
    "            print('\\n')\n",
    "\n",
    "\n",
    "print_rules(rules[:20])"
   ]
  },
  {
   "cell_type": "code",
   "execution_count": 29,
   "metadata": {},
   "outputs": [
    {
     "name": "stdout",
     "output_type": "stream",
     "text": [
      "rule.items= ['cake bar', 'Instant food products']\n",
      "\n",
      "\titems_base= ['Instant food products']\n",
      "\tlifted_item = ['cake bar']\n",
      "\tlift= 5.421376811594203\n",
      "\tconfidence (i.e. cond prob ['cake bar'] if ['Instant food products'])= 0.03333333333333333\n",
      "\n",
      "\titems_base= ['cake bar']\n",
      "\tlifted_item = ['Instant food products']\n",
      "\tlift= 5.421376811594204\n",
      "\tconfidence (i.e. cond prob ['Instant food products'] if ['cake bar'])= 0.02173913043478261\n"
     ]
    }
   ],
   "source": [
    "def print_rules_multi_os(rules):\n",
    "    for rule in rules:\n",
    "        if len(rule.ordered_statistics) > 1:\n",
    "            print('rule.items=', list(rule.items))\n",
    "            for os in rule.ordered_statistics:\n",
    "                print('\\n\\titems_base=', list(os.items_base))\n",
    "                print('\\tlifted_item =', list(os.items_add))\n",
    "                print('\\tlift=', os.lift)\n",
    "                print('\\tconfidence (i.e. cond prob {} if {})='.format(\n",
    "                    list(os.items_add), list(os.items_base)), os.confidence)\n",
    "\n",
    "            break\n",
    "\n",
    "\n",
    "print_rules_multi_os(rules[:20])"
   ]
  },
  {
   "cell_type": "markdown",
   "metadata": {},
   "source": [
    "### Access to terms values "
   ]
  },
  {
   "cell_type": "code",
   "execution_count": 30,
   "metadata": {},
   "outputs": [
    {
     "data": {
      "text/plain": [
       "RelationRecord(items=frozenset({'cake bar', 'Instant food products'}), support=0.00013366303548753594, ordered_statistics=[OrderedStatistic(items_base=frozenset({'Instant food products'}), items_add=frozenset({'cake bar'}), confidence=0.03333333333333333, lift=5.421376811594203), OrderedStatistic(items_base=frozenset({'cake bar'}), items_add=frozenset({'Instant food products'}), confidence=0.02173913043478261, lift=5.421376811594204)])"
      ]
     },
     "execution_count": 30,
     "metadata": {},
     "output_type": "execute_result"
    }
   ],
   "source": [
    "rules[0]"
   ]
  },
  {
   "cell_type": "code",
   "execution_count": 31,
   "metadata": {},
   "outputs": [
    {
     "data": {
      "text/plain": [
       "apyori.RelationRecord"
      ]
     },
     "execution_count": 31,
     "metadata": {},
     "output_type": "execute_result"
    }
   ],
   "source": [
    "type(rules[0])"
   ]
  },
  {
   "cell_type": "code",
   "execution_count": 32,
   "metadata": {},
   "outputs": [
    {
     "data": {
      "text/plain": [
       "['cake bar', 'Instant food products']"
      ]
     },
     "execution_count": 32,
     "metadata": {},
     "output_type": "execute_result"
    }
   ],
   "source": [
    "list(rules[0].items)"
   ]
  },
  {
   "cell_type": "code",
   "execution_count": 33,
   "metadata": {},
   "outputs": [
    {
     "data": {
      "text/plain": [
       "0.00013366303548753594"
      ]
     },
     "execution_count": 33,
     "metadata": {},
     "output_type": "execute_result"
    }
   ],
   "source": [
    "rules[0].support"
   ]
  },
  {
   "cell_type": "code",
   "execution_count": 34,
   "metadata": {},
   "outputs": [
    {
     "data": {
      "text/plain": [
       "[OrderedStatistic(items_base=frozenset({'Instant food products'}), items_add=frozenset({'cake bar'}), confidence=0.03333333333333333, lift=5.421376811594203),\n",
       " OrderedStatistic(items_base=frozenset({'cake bar'}), items_add=frozenset({'Instant food products'}), confidence=0.02173913043478261, lift=5.421376811594204)]"
      ]
     },
     "execution_count": 34,
     "metadata": {},
     "output_type": "execute_result"
    }
   ],
   "source": [
    "rules[0].ordered_statistics"
   ]
  },
  {
   "cell_type": "markdown",
   "metadata": {},
   "source": [
    "#### Review possible values of amount of ordered statistics in rule"
   ]
  },
  {
   "cell_type": "code",
   "execution_count": 35,
   "metadata": {},
   "outputs": [
    {
     "name": "stdout",
     "output_type": "stream",
     "text": [
      "possible  amount of ordered_statistics:\n"
     ]
    },
    {
     "data": {
      "text/plain": [
       "{2, 4, 6, 8, 10, 12, 14, 30}"
      ]
     },
     "execution_count": 35,
     "metadata": {},
     "output_type": "execute_result"
    }
   ],
   "source": [
    "print('possible  amount of ordered_statistics:')\n",
    "set([len(r.ordered_statistics) for r in rules])"
   ]
  },
  {
   "cell_type": "code",
   "execution_count": 36,
   "metadata": {},
   "outputs": [
    {
     "data": {
      "text/plain": [
       "['Instant food products']"
      ]
     },
     "execution_count": 36,
     "metadata": {},
     "output_type": "execute_result"
    }
   ],
   "source": [
    "list(rules[0].ordered_statistics[0].items_base)"
   ]
  },
  {
   "cell_type": "code",
   "execution_count": 37,
   "metadata": {},
   "outputs": [
    {
     "data": {
      "text/plain": [
       "['cake bar']"
      ]
     },
     "execution_count": 37,
     "metadata": {},
     "output_type": "execute_result"
    }
   ],
   "source": [
    "list(rules[0].ordered_statistics[0].items_add)"
   ]
  },
  {
   "cell_type": "code",
   "execution_count": 38,
   "metadata": {},
   "outputs": [
    {
     "data": {
      "text/plain": [
       "5.421376811594203"
      ]
     },
     "execution_count": 38,
     "metadata": {},
     "output_type": "execute_result"
    }
   ],
   "source": [
    "rules[0].ordered_statistics[0].lift"
   ]
  },
  {
   "cell_type": "code",
   "execution_count": 39,
   "metadata": {},
   "outputs": [
    {
     "data": {
      "text/plain": [
       "0.03333333333333333"
      ]
     },
     "execution_count": 39,
     "metadata": {},
     "output_type": "execute_result"
    }
   ],
   "source": [
    "rules[0].ordered_statistics[0].confidence"
   ]
  }
 ],
 "metadata": {
  "kernelspec": {
   "display_name": "Python 3",
   "language": "python",
   "name": "python3"
  },
  "language_info": {
   "codemirror_mode": {
    "name": "ipython",
    "version": 3
   },
   "file_extension": ".py",
   "mimetype": "text/x-python",
   "name": "python",
   "nbconvert_exporter": "python",
   "pygments_lexer": "ipython3",
   "version": "3.11.6"
  }
 },
 "nbformat": 4,
 "nbformat_minor": 2
}
