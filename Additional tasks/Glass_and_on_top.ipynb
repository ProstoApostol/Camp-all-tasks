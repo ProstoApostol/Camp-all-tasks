{
 "cells": [
  {
   "cell_type": "markdown",
   "metadata": {},
   "source": [
    "## The problem of glasses and floors\n",
    "\n",
    "This code considers various options for distributing the glasses between attempts and chooses the one that requires the minimum number of attempts to determine the highest floor."
   ]
  },
  {
   "cell_type": "code",
   "execution_count": 287,
   "metadata": {},
   "outputs": [],
   "source": [
    "def Search_X(glasses,floors):\n",
    "    if glasses == 1 or floors == 1:\n",
    "        return floors\n",
    "    elif glasses == 0 or floors == 0:\n",
    "        return 0\n",
    "    \n",
    "    A = [[0 for _ in range(floors + 1)] for _ in range(glasses + 1)]\n",
    "    \n",
    "    for i in range(1,glasses + 1):\n",
    "        A[i][1] = 1\n",
    "        \n",
    "    for i in range(1,floors + 1):\n",
    "        A[1][i] = i\n",
    "        \n",
    "    for i in range(2, glasses + 1):\n",
    "        for w in range(2,floors + 1):\n",
    "            \n",
    "            A[i][w] = min(1 + max(A[i-1][x-1], A[i][w-x])for x in range(1, w+1))\n",
    "\n",
    "    \n",
    "    return A[glasses][floors]"
   ]
  },
  {
   "cell_type": "markdown",
   "metadata": {},
   "source": [
    "### 100 floors and 2 dlasses"
   ]
  },
  {
   "cell_type": "code",
   "execution_count": 288,
   "metadata": {},
   "outputs": [
    {
     "name": "stdout",
     "output_type": "stream",
     "text": [
      "Result:  14\n"
     ]
    }
   ],
   "source": [
    "print(\"Result: \", Search_X(2,100))"
   ]
  },
  {
   "cell_type": "markdown",
   "metadata": {},
   "source": [
    "### 1000 floors and 2 dlasses"
   ]
  },
  {
   "cell_type": "code",
   "execution_count": 289,
   "metadata": {},
   "outputs": [
    {
     "name": "stdout",
     "output_type": "stream",
     "text": [
      "Result:  45\n"
     ]
    }
   ],
   "source": [
    "print(\"Result: \",Search_X(2, 1000))"
   ]
  },
  {
   "cell_type": "markdown",
   "metadata": {},
   "source": [
    "### 1000 floors and 3 dlasses"
   ]
  },
  {
   "cell_type": "code",
   "execution_count": 290,
   "metadata": {},
   "outputs": [
    {
     "name": "stdout",
     "output_type": "stream",
     "text": [
      "Result:  19\n"
     ]
    }
   ],
   "source": [
    "print(\"Result: \", Search_X(3, 1000))"
   ]
  },
  {
   "cell_type": "markdown",
   "metadata": {},
   "source": [
    "### 1000 floors and 5 dlasses"
   ]
  },
  {
   "cell_type": "code",
   "execution_count": 291,
   "metadata": {},
   "outputs": [
    {
     "name": "stdout",
     "output_type": "stream",
     "text": [
      "Result:  11\n"
     ]
    }
   ],
   "source": [
    "print(\"Result: \", Search_X(5, 1000))"
   ]
  }
 ],
 "metadata": {
  "kernelspec": {
   "display_name": "Python 3",
   "language": "python",
   "name": "python3"
  },
  "language_info": {
   "codemirror_mode": {
    "name": "ipython",
    "version": 3
   },
   "file_extension": ".py",
   "mimetype": "text/x-python",
   "name": "python",
   "nbconvert_exporter": "python",
   "pygments_lexer": "ipython3",
   "version": "3.11.7"
  }
 },
 "nbformat": 4,
 "nbformat_minor": 2
}
