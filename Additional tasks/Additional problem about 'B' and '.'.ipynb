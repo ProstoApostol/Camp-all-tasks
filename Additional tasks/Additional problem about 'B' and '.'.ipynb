{
 "cells": [
  {
   "cell_type": "markdown",
   "metadata": {},
   "source": [
    "## Hometask\n",
    "\n",
    "Є масив n довжини ['.' 'B' '.' 'B' 'B' '.' '.' '.' '.' 'B']\n",
    "треба знайти мінімальну кількість перестановок B, щоб получився візерунок ... B.B ...\n",
    "цей візерунок не має перериватись і має включати всі B які є в масиві, якщо зробити візерунок неможливо, то повернути -1"
   ]
  },
  {
   "cell_type": "code",
   "execution_count": 517,
   "metadata": {},
   "outputs": [],
   "source": [
    "import math\n",
    "import random"
   ]
  },
  {
   "cell_type": "code",
   "execution_count": 518,
   "metadata": {},
   "outputs": [],
   "source": [
    "def generate_random_array(length):\n",
    "    array = [random.choice(['.', 'B']) for _ in range(length)]\n",
    "    return array"
   ]
  },
  {
   "cell_type": "code",
   "execution_count": 519,
   "metadata": {},
   "outputs": [
    {
     "name": "stdout",
     "output_type": "stream",
     "text": [
      "['.', '.', 'B', 'B', 'B', '.', '.', '.', 'B', '.', 'B', '.', 'B', '.', '.', '.', 'B', '.', '.', '.']\n"
     ]
    }
   ],
   "source": [
    "Array = generate_random_array(20)\n",
    "print(Array)"
   ]
  },
  {
   "cell_type": "code",
   "execution_count": 520,
   "metadata": {},
   "outputs": [],
   "source": [
    "def Filtering_Array_2(Array,Array2):\n",
    "    Check = 1\n",
    "    while Check != 0:\n",
    "        Check = 0\n",
    "        for i in range(len(Array)):\n",
    "            for w in range(len(Array2)):\n",
    "                if Array[i] + 4 == Array2[w] or Array[i] - 4 == Array2[w]:\n",
    "                    Array2.append(Array[i])\n",
    "                    Check += 1\n",
    "                    \n",
    "        Array = [element for element in Array if element not in Array2]\n",
    "        \n",
    "    return Array2,Array"
   ]
  },
  {
   "cell_type": "code",
   "execution_count": 521,
   "metadata": {},
   "outputs": [],
   "source": [
    "def Filtering_Array(Array,Checking = False):\n",
    "    numbers = 0\n",
    "    if Checking:\n",
    "        filtering_array = []\n",
    "        \n",
    "        for i in range(len(Array) - 1):\n",
    "            if Array[i] + 2 == Array[i + 1] or Array[i] - 2 == Array[i + 1]:\n",
    "                filtering_array.append(Array[i])\n",
    "                filtering_array.append(Array[i + 1])\n",
    "                \n",
    "            elif ((Array[i] + 2) - Array[i + 1]) % 2 == 0 or ((Array[i + 1]) - Array[i] + 2) % 2 == 0:\n",
    "                filtering_array.append(Array[i])\n",
    "                filtering_array.append(Array[i + 1])\n",
    "                \n",
    "            else:\n",
    "                for w in range(i + 1,len(Array) - 1):\n",
    "                    if Array[w] + 2 == Array[w + 1] or Array[w] - 2 == Array[w + 1]:\n",
    "                        filtering_array.append((Array[w] - 1))\n",
    "                        filtering_array.append((Array[w + 1] - 1))\n",
    "                        numbers += 2\n",
    "                \n",
    "                    elif ((Array[w] + 2) - Array[w + 1]) % 2 == 0 or ((Array[w + 1]) - Array[w] + 2) % 2 == 0:\n",
    "                        filtering_array.append((Array[w] - 1))\n",
    "                        filtering_array.append((Array[w + 1] - 1))\n",
    "                        numbers += 2\n",
    "                break\n",
    "                \n",
    "            filtering_array = list(set(filtering_array))\n",
    "            \n",
    "    else:\n",
    "        filtering_array = []\n",
    "        for i in range(len(Array)):\n",
    "            for w in range(len(Array)):\n",
    "                if Array[i] + 2 == Array[w] or Array[i] - 2 == Array[w]:\n",
    "                    filtering_array.append(Array[i])\n",
    "                \n",
    "    \n",
    "    if Checking:\n",
    "        return filtering_array, numbers\n",
    "    else:\n",
    "        return filtering_array"
   ]
  },
  {
   "cell_type": "code",
   "execution_count": 522,
   "metadata": {},
   "outputs": [],
   "source": [
    "def Cleaning_Array(Array,Array2):\n",
    "    Array = [element for element in Array if element not in Array2]\n",
    "    return Array\n",
    "    "
   ]
  },
  {
   "cell_type": "code",
   "execution_count": 523,
   "metadata": {},
   "outputs": [
    {
     "name": "stdout",
     "output_type": "stream",
     "text": [
      "Minimum number of permutations:  2\n"
     ]
    }
   ],
   "source": [
    "def Get_min_numbers(Array):\n",
    "    Numbers_B = []\n",
    "    Index_B = []\n",
    "\n",
    "    Numbers_points = []\n",
    "    numbers = 0                           \n",
    "    for i in range(len(Array)):\n",
    "        if Array[i] == '.':\n",
    "            Numbers_points.append(i)\n",
    "        elif Array[i] == 'B':\n",
    "            Numbers_B.append(i)\n",
    "            Index_B.append(i)\n",
    "\n",
    "    if len(Numbers_B) > len(Numbers_points) or len(Numbers_points) < len(Numbers_B) - 1 or len(Numbers_B) == 0 or len(Numbers_points) == 0:\n",
    "        return -1\n",
    "    \n",
    "    filtering_array = Filtering_Array(Index_B)\n",
    "    Index_B = Cleaning_Array(Index_B,filtering_array)\n",
    "    \n",
    "    number = 1\n",
    "    while number != 0:\n",
    "        number = 0\n",
    "        filtering_array,number = Filtering_Array(filtering_array, True)\n",
    "        numbers += number\n",
    "    \n",
    "    Index_B = Cleaning_Array(Index_B, filtering_array)\n",
    "    \n",
    "    filtering_array, Index_B = Filtering_Array_2(Index_B, filtering_array)\n",
    "    \n",
    "    filtering_array = list(set(filtering_array))\n",
    "    \n",
    "    Check2 = 0\n",
    "    for i in range(len(filtering_array) - 1):\n",
    "        if filtering_array[i] + 2 == filtering_array[i + 1] or filtering_array[i] - 2 == filtering_array[i + 1]:\n",
    "            filtering_array.append(filtering_array[i])\n",
    "            filtering_array.append(filtering_array[i + 1])\n",
    "                \n",
    "        elif ((filtering_array[i] + 2) - filtering_array[i + 1]) % 2 == 0 or ((filtering_array[i + 1]) - filtering_array[i] + 2) % 2 == 0:\n",
    "            Check2 += 1\n",
    "            \n",
    "        filtering_array = list(set(filtering_array))\n",
    "    \n",
    "    Check2 = math.ceil(Check2 / 2) + len(Index_B)\n",
    "    \n",
    "    numbers += Check2\n",
    "    \n",
    "    return numbers\n",
    "\n",
    "Result = Get_min_numbers(Array)\n",
    "print('Minimum number of permutations: ',Result)"
   ]
  }
 ],
 "metadata": {
  "kernelspec": {
   "display_name": "Python 3",
   "language": "python",
   "name": "python3"
  },
  "language_info": {
   "codemirror_mode": {
    "name": "ipython",
    "version": 3
   },
   "file_extension": ".py",
   "mimetype": "text/x-python",
   "name": "python",
   "nbconvert_exporter": "python",
   "pygments_lexer": "ipython3",
   "version": "3.11.8"
  }
 },
 "nbformat": 4,
 "nbformat_minor": 2
}
